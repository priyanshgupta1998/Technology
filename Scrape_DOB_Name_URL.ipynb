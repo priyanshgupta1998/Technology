{
  "nbformat": 4,
  "nbformat_minor": 0,
  "metadata": {
    "colab": {
      "name": "TensorFlow with GPU",
      "version": "0.3.2",
      "provenance": [],
      "collapsed_sections": [],
      "include_colab_link": true
    },
    "kernelspec": {
      "name": "python3",
      "display_name": "Python 3"
    },
    "accelerator": "GPU"
  },
  "cells": [
    {
      "cell_type": "markdown",
      "metadata": {
        "id": "view-in-github",
        "colab_type": "text"
      },
      "source": [
        "<a href=\"https://colab.research.google.com/github/priyanshgupta1998/WebScraping/blob/master/Scrape_DOB_Name_URL.ipynb\" target=\"_parent\"><img src=\"https://colab.research.google.com/assets/colab-badge.svg\" alt=\"Open In Colab\"/></a>"
      ]
    },
    {
      "cell_type": "code",
      "metadata": {
        "id": "PnWoVQLDrXTL",
        "colab_type": "code",
        "colab": {}
      },
      "source": [
        "from urllib.request import urlopen as ureq\n",
        "from bs4 import BeautifulSoup\n",
        "import requests\n",
        "import pandas as pd\n"
      ],
      "execution_count": 0,
      "outputs": []
    },
    {
      "cell_type": "code",
      "metadata": {
        "id": "k9XtaiIf-1qg",
        "colab_type": "code",
        "colab": {
          "base_uri": "https://localhost:8080/",
          "height": 638
        },
        "outputId": "221471fb-cd43-4a61-bbfb-686002472a92"
      },
      "source": [
        "links = ['https://nettv4u.com/celebrity/english/producer/deborah-snyder' , \n",
        "'https://nettv4u.com/celebrity/english/producer/benjamin-melniker' , \n",
        "'https://nettv4u.com/celebrity/english/producer/wesley-coller', \n",
        "'https://nettv4u.com/celebrity/english/movie-actress/demi-kazanis' , \n",
        "'https://nettv4u.com/celebrity/english/movie-actor/david-midura',\n",
        "'https://nettv4u.com/celebrity/english/movie-actor/dante-briggins',\n",
        "'https://nettv4u.com/celebrity/english/stunt-director/ele-bardha',\n",
        "'https://nettv4u.com/celebrity/english/movie-actor/gordon-michaels',\n",
        "'https://nettv4u.com/celebrity/english/movie-actress/christina-wren',\n",
        "'https://nettv4u.com/celebrity/english/movie-actor/brian-boland',\n",
        "'https://nettv4u.com/celebrity/english/movie-actress/heather-fairbanks',\n",
        "'https://nettv4u.com/celebrity/english/movie-actress/jade-chynoweth',\n",
        "'https://nettv4u.com/celebrity/english/movie-actress/nicole-santini',\n",
        "'https://nettv4u.com/celebrity/english/movie-actor/roger-wiggins',\n",
        "'https://nettv4u.com/celebrity/english/movie-actress/sandhya-chandel',\n",
        "'https://nettv4u.com/celebrity/english/movie-actress/tao-okamoto',\n",
        "'https://nettv4u.com/celebrity/english/movie-actress/terri-partyka',\n",
        "'https://nettv4u.com/celebrity/english/producer/denise-ream',\n",
        "'https://nettv4u.com/celebrity/english/executive-producer/scott-niemeyer']\n",
        "\n",
        "\n",
        "name = []\n",
        "post = []\n",
        "img = []\n",
        "for i in range(len(links)):\n",
        "    name.append(links[i].split('/')[-1])\n",
        "    page = requests.get(links[i])\n",
        "    html = BeautifulSoup(page.content,'html.parser')\n",
        "    div = html.findAll(\"div\",{\"class\":\"actor-photo\"})\n",
        "    post.append(div[0].img.get('alt'))\n",
        "    img.append(div[0].img.get('src'))\n",
        "\n",
        "data = pd.DataFrame()\n",
        "data['Name'] = name\n",
        "\n",
        "data['KnownAs'] = post\n",
        "data['Links'] = links\n",
        "data['Image_Link'] = img\n",
        "data"
      ],
      "execution_count": 195,
      "outputs": [
        {
          "output_type": "execute_result",
          "data": {
            "text/html": [
              "<div>\n",
              "<style scoped>\n",
              "    .dataframe tbody tr th:only-of-type {\n",
              "        vertical-align: middle;\n",
              "    }\n",
              "\n",
              "    .dataframe tbody tr th {\n",
              "        vertical-align: top;\n",
              "    }\n",
              "\n",
              "    .dataframe thead th {\n",
              "        text-align: right;\n",
              "    }\n",
              "</style>\n",
              "<table border=\"1\" class=\"dataframe\">\n",
              "  <thead>\n",
              "    <tr style=\"text-align: right;\">\n",
              "      <th></th>\n",
              "      <th>Name</th>\n",
              "      <th>KnownAs</th>\n",
              "      <th>Links</th>\n",
              "      <th>Image_Link</th>\n",
              "    </tr>\n",
              "  </thead>\n",
              "  <tbody>\n",
              "    <tr>\n",
              "      <th>0</th>\n",
              "      <td>deborah-snyder</td>\n",
              "      <td>Deborah Snyder English Actress</td>\n",
              "      <td>https://nettv4u.com/celebrity/english/producer...</td>\n",
              "      <td>https://nettv4u.com/imagine/deborah-snyder.png</td>\n",
              "    </tr>\n",
              "    <tr>\n",
              "      <th>1</th>\n",
              "      <td>benjamin-melniker</td>\n",
              "      <td>Benjamin Melniker English Actor</td>\n",
              "      <td>https://nettv4u.com/celebrity/english/producer...</td>\n",
              "      <td>https://nettv4u.com/imagine/benjamin-melniker.png</td>\n",
              "    </tr>\n",
              "    <tr>\n",
              "      <th>2</th>\n",
              "      <td>wesley-coller</td>\n",
              "      <td>Wesley Coller English Actor</td>\n",
              "      <td>https://nettv4u.com/celebrity/english/producer...</td>\n",
              "      <td>https://nettv4u.com/imagine/19-04-2017/wesley-...</td>\n",
              "    </tr>\n",
              "    <tr>\n",
              "      <th>3</th>\n",
              "      <td>demi-kazanis</td>\n",
              "      <td>Demi Kazanis English Actress</td>\n",
              "      <td>https://nettv4u.com/celebrity/english/movie-ac...</td>\n",
              "      <td>https://nettv4u.com/imagine/demi-kazanis.png</td>\n",
              "    </tr>\n",
              "    <tr>\n",
              "      <th>4</th>\n",
              "      <td>david-midura</td>\n",
              "      <td>David Midura English Actor</td>\n",
              "      <td>https://nettv4u.com/celebrity/english/movie-ac...</td>\n",
              "      <td>https://nettv4u.com/imagine/19-04-2017/david-m...</td>\n",
              "    </tr>\n",
              "    <tr>\n",
              "      <th>5</th>\n",
              "      <td>dante-briggins</td>\n",
              "      <td>Dante Briggins English Actor</td>\n",
              "      <td>https://nettv4u.com/celebrity/english/movie-ac...</td>\n",
              "      <td>https://nettv4u.com/imagine/19-04-2017/dante-b...</td>\n",
              "    </tr>\n",
              "    <tr>\n",
              "      <th>6</th>\n",
              "      <td>ele-bardha</td>\n",
              "      <td>Ele Bardha English Actor</td>\n",
              "      <td>https://nettv4u.com/celebrity/english/stunt-di...</td>\n",
              "      <td>https://nettv4u.com/imagine/ele-bardha.png</td>\n",
              "    </tr>\n",
              "    <tr>\n",
              "      <th>7</th>\n",
              "      <td>gordon-michaels</td>\n",
              "      <td>Gordon Michaels English Actor</td>\n",
              "      <td>https://nettv4u.com/celebrity/english/movie-ac...</td>\n",
              "      <td>https://nettv4u.com/imagine/gordon-michaels.png</td>\n",
              "    </tr>\n",
              "    <tr>\n",
              "      <th>8</th>\n",
              "      <td>christina-wren</td>\n",
              "      <td>Christina Wren English Actress</td>\n",
              "      <td>https://nettv4u.com/celebrity/english/movie-ac...</td>\n",
              "      <td>https://nettv4u.com/imagine/christina-wren.png</td>\n",
              "    </tr>\n",
              "    <tr>\n",
              "      <th>9</th>\n",
              "      <td>brian-boland</td>\n",
              "      <td>Brian Boland English Actor</td>\n",
              "      <td>https://nettv4u.com/celebrity/english/movie-ac...</td>\n",
              "      <td>https://nettv4u.com/imagine/b/r/i/a/n/0/brian-...</td>\n",
              "    </tr>\n",
              "    <tr>\n",
              "      <th>10</th>\n",
              "      <td>heather-fairbanks</td>\n",
              "      <td>Heather Fairbanks English Actress</td>\n",
              "      <td>https://nettv4u.com/celebrity/english/movie-ac...</td>\n",
              "      <td>https://nettv4u.com/imagine/heather-fairbanks.png</td>\n",
              "    </tr>\n",
              "    <tr>\n",
              "      <th>11</th>\n",
              "      <td>jade-chynoweth</td>\n",
              "      <td>Jade Chynoweth English Actress</td>\n",
              "      <td>https://nettv4u.com/celebrity/english/movie-ac...</td>\n",
              "      <td>https://nettv4u.com/imagine/jade-chynoweth.png</td>\n",
              "    </tr>\n",
              "    <tr>\n",
              "      <th>12</th>\n",
              "      <td>nicole-santini</td>\n",
              "      <td>Nicole Santini English Actress</td>\n",
              "      <td>https://nettv4u.com/celebrity/english/movie-ac...</td>\n",
              "      <td>https://nettv4u.com/imagine/nicole-santini.png</td>\n",
              "    </tr>\n",
              "    <tr>\n",
              "      <th>13</th>\n",
              "      <td>roger-wiggins</td>\n",
              "      <td>Roger Wiggins English Actor</td>\n",
              "      <td>https://nettv4u.com/celebrity/english/movie-ac...</td>\n",
              "      <td>https://nettv4u.com/imagine/roger-wiggins.png</td>\n",
              "    </tr>\n",
              "    <tr>\n",
              "      <th>14</th>\n",
              "      <td>sandhya-chandel</td>\n",
              "      <td>Sandhya Chandel English Actress</td>\n",
              "      <td>https://nettv4u.com/celebrity/english/movie-ac...</td>\n",
              "      <td>https://nettv4u.com/imagine/01-08-2017/sandhya...</td>\n",
              "    </tr>\n",
              "    <tr>\n",
              "      <th>15</th>\n",
              "      <td>tao-okamoto</td>\n",
              "      <td>Tao Okamoto English Actress</td>\n",
              "      <td>https://nettv4u.com/celebrity/english/movie-ac...</td>\n",
              "      <td>https://nettv4u.com/imagine/tao-okamoto.png</td>\n",
              "    </tr>\n",
              "    <tr>\n",
              "      <th>16</th>\n",
              "      <td>terri-partyka</td>\n",
              "      <td>Terri Partyka English Actress</td>\n",
              "      <td>https://nettv4u.com/celebrity/english/movie-ac...</td>\n",
              "      <td>https://nettv4u.com/imagine/terri-partyka.png</td>\n",
              "    </tr>\n",
              "    <tr>\n",
              "      <th>17</th>\n",
              "      <td>denise-ream</td>\n",
              "      <td>Denise Ream English Actress</td>\n",
              "      <td>https://nettv4u.com/celebrity/english/producer...</td>\n",
              "      <td>https://nettv4u.com/imagine/denise-ream.jpg</td>\n",
              "    </tr>\n",
              "    <tr>\n",
              "      <th>18</th>\n",
              "      <td>scott-niemeyer</td>\n",
              "      <td>Scott Niemeyer English Actor</td>\n",
              "      <td>https://nettv4u.com/celebrity/english/executiv...</td>\n",
              "      <td>https://nettv4u.com/imagine/scott-niemeyer.png</td>\n",
              "    </tr>\n",
              "  </tbody>\n",
              "</table>\n",
              "</div>"
            ],
            "text/plain": [
              "                 Name  ...                                         Image_Link\n",
              "0      deborah-snyder  ...     https://nettv4u.com/imagine/deborah-snyder.png\n",
              "1   benjamin-melniker  ...  https://nettv4u.com/imagine/benjamin-melniker.png\n",
              "2       wesley-coller  ...  https://nettv4u.com/imagine/19-04-2017/wesley-...\n",
              "3        demi-kazanis  ...       https://nettv4u.com/imagine/demi-kazanis.png\n",
              "4        david-midura  ...  https://nettv4u.com/imagine/19-04-2017/david-m...\n",
              "5      dante-briggins  ...  https://nettv4u.com/imagine/19-04-2017/dante-b...\n",
              "6          ele-bardha  ...         https://nettv4u.com/imagine/ele-bardha.png\n",
              "7     gordon-michaels  ...    https://nettv4u.com/imagine/gordon-michaels.png\n",
              "8      christina-wren  ...     https://nettv4u.com/imagine/christina-wren.png\n",
              "9        brian-boland  ...  https://nettv4u.com/imagine/b/r/i/a/n/0/brian-...\n",
              "10  heather-fairbanks  ...  https://nettv4u.com/imagine/heather-fairbanks.png\n",
              "11     jade-chynoweth  ...     https://nettv4u.com/imagine/jade-chynoweth.png\n",
              "12     nicole-santini  ...     https://nettv4u.com/imagine/nicole-santini.png\n",
              "13      roger-wiggins  ...      https://nettv4u.com/imagine/roger-wiggins.png\n",
              "14    sandhya-chandel  ...  https://nettv4u.com/imagine/01-08-2017/sandhya...\n",
              "15        tao-okamoto  ...        https://nettv4u.com/imagine/tao-okamoto.png\n",
              "16      terri-partyka  ...      https://nettv4u.com/imagine/terri-partyka.png\n",
              "17        denise-ream  ...        https://nettv4u.com/imagine/denise-ream.jpg\n",
              "18     scott-niemeyer  ...     https://nettv4u.com/imagine/scott-niemeyer.png\n",
              "\n",
              "[19 rows x 4 columns]"
            ]
          },
          "metadata": {
            "tags": []
          },
          "execution_count": 195
        }
      ]
    },
    {
      "cell_type": "code",
      "metadata": {
        "id": "ysHw1-9VZ1A4",
        "colab_type": "code",
        "colab": {}
      },
      "source": [
        "data.to_csv('data.csv',index=False)"
      ],
      "execution_count": 0,
      "outputs": []
    },
    {
      "cell_type": "code",
      "metadata": {
        "id": "8P5WYhdR-1eQ",
        "colab_type": "code",
        "colab": {}
      },
      "source": [
        ""
      ],
      "execution_count": 0,
      "outputs": []
    },
    {
      "cell_type": "markdown",
      "metadata": {
        "id": "l6FdnWzf2rhe",
        "colab_type": "text"
      },
      "source": [
        "#Full Details ---> Producer/Actor/Director....'s Name with their DOB and Link"
      ]
    },
    {
      "cell_type": "code",
      "metadata": {
        "id": "zuJNkUKxrXW1",
        "colab_type": "code",
        "colab": {
          "base_uri": "https://localhost:8080/",
          "height": 34
        },
        "outputId": "55091367-8828-49a3-9c27-539979ee9405"
      },
      "source": [
        "#For page number 0 \n",
        "url = 'https://nettv4u.com/celebrity/english/producer/'\n",
        "page = requests.get(url)\n",
        "html = BeautifulSoup(page.content,'html.parser')\n",
        "div= html.findAll(\"div\",{\"id\":\"celeb-item-all\"})\n",
        "liss = div[0].findAll('a')\n",
        "\n",
        "producer = []\n",
        "producer = producer + div[0].text.strip().split('\\n\\n\\n\\n\\n\\n\\n\\n')\n",
        "\n",
        "links =[]\n",
        "for i in range(0 , len(liss) , 2):\n",
        "  links.append('https://nettv4u.com' + liss[i].get('href'))\n",
        "  \n",
        "  \n",
        "images = []\n",
        "for i in range(len(liss)):\n",
        "  if(liss[i].img!=None):\n",
        "    images += [str(liss[i].img.get('data-src'))]\n",
        "#lin = list(set(lin))\n",
        "  \n",
        "\n",
        "\n",
        "#Now for the rest of the pages \n",
        "num_of_pages = int(input(\"Enter the number of pages you want to scrape ...less than or equal to 53 : \")) + 1 \n",
        "for i in range(1,num_of_pages):\n",
        "  url = 'https://nettv4u.com/celebrity/english/producer/?page={}'.format(i)\n",
        "  page = requests.get(url)\n",
        "  html = BeautifulSoup(page.content,'html.parser')\n",
        "  # html.findAll(\"a\",{\"class\":\"LinkNormal\"})\n",
        "  div2 = html.findAll(\"div\",{\"id\":\"celeb-item-all\"})\n",
        "  \n",
        "  #For post , Name and DOB\n",
        "  producer += div2[0].text.strip().split('\\n\\n\\n\\n\\n\\n\\n\\n')\n",
        "  \n",
        "  #For links \n",
        "  liss = div2[0].findAll('a')\n",
        "  for i in range(0 ,len(liss),2):\n",
        "    links += ['https://nettv4u.com' + liss[i].get('href')]\n",
        "  #urls = list(set(urls))\n",
        "  #links += urls\n",
        "    \n",
        "  for i in range(len(liss)):\n",
        "    if(liss[i].img!=None):\n",
        "      images += [str(liss[i].img.get('data-src'))]\n",
        "      \n",
        "\n"
      ],
      "execution_count": 161,
      "outputs": [
        {
          "output_type": "stream",
          "text": [
            "Enter the number of pages you want to scrape ...less than or equal to 53 : 53\n"
          ],
          "name": "stdout"
        }
      ]
    },
    {
      "cell_type": "code",
      "metadata": {
        "id": "VZuBRd9XGm1V",
        "colab_type": "code",
        "colab": {}
      },
      "source": [
        "names = []\n",
        "dob =[]\n",
        "work = []\n",
        "for i in range(len(producer)):\n",
        "  k = producer[i].strip().split('\\n\\n')\n",
        "  if(len(k)<2):\n",
        "    k +=['DOB : ?']\n",
        "  names.append(k[0])\n",
        "  dob.append(k[1].split(':')[1])\n",
        "  work.append(links[i].split('https://nettv4u.com/celebrity/english/')[1].split('/')[0])"
      ],
      "execution_count": 0,
      "outputs": []
    },
    {
      "cell_type": "code",
      "metadata": {
        "id": "bj4gRZAYrXYY",
        "colab_type": "code",
        "colab": {
          "base_uri": "https://localhost:8080/",
          "height": 221
        },
        "outputId": "6709bc8c-b9b9-4430-e369-f5303181dcc4"
      },
      "source": [
        "df = pd.DataFrame()\n",
        "df['Name'] = names\n",
        "df['DOB : DD-MM-YYYY'] = dob\n",
        "df['Task & Job'] = work\n",
        "df['Url_Web_page_Link'] = links\n",
        "df['Image_Link'] = images\n",
        "\n",
        "print(df.shape)\n",
        "df.head()"
      ],
      "execution_count": 164,
      "outputs": [
        {
          "output_type": "stream",
          "text": [
            "(645, 5)\n"
          ],
          "name": "stdout"
        },
        {
          "output_type": "execute_result",
          "data": {
            "text/html": [
              "<div>\n",
              "<style scoped>\n",
              "    .dataframe tbody tr th:only-of-type {\n",
              "        vertical-align: middle;\n",
              "    }\n",
              "\n",
              "    .dataframe tbody tr th {\n",
              "        vertical-align: top;\n",
              "    }\n",
              "\n",
              "    .dataframe thead th {\n",
              "        text-align: right;\n",
              "    }\n",
              "</style>\n",
              "<table border=\"1\" class=\"dataframe\">\n",
              "  <thead>\n",
              "    <tr style=\"text-align: right;\">\n",
              "      <th></th>\n",
              "      <th>Name</th>\n",
              "      <th>DOB : DD-MM-YYYY</th>\n",
              "      <th>Task &amp; Job</th>\n",
              "      <th>Url_Web_page_Link</th>\n",
              "      <th>Image_Link</th>\n",
              "    </tr>\n",
              "  </thead>\n",
              "  <tbody>\n",
              "    <tr>\n",
              "      <th>0</th>\n",
              "      <td>Peter Jackson</td>\n",
              "      <td>31-10-1961</td>\n",
              "      <td>producer</td>\n",
              "      <td>https://nettv4u.com/celebrity/english/producer...</td>\n",
              "      <td>https://nettv4u.com/imagine/13-12-2018/peter-j...</td>\n",
              "    </tr>\n",
              "    <tr>\n",
              "      <th>1</th>\n",
              "      <td>Deborah Forte</td>\n",
              "      <td>?</td>\n",
              "      <td>producer</td>\n",
              "      <td>https://nettv4u.com/celebrity/english/producer...</td>\n",
              "      <td>https://nettv4u.com/imagine/13-12-2018/deborah...</td>\n",
              "    </tr>\n",
              "    <tr>\n",
              "      <th>2</th>\n",
              "      <td>Zane Weiner</td>\n",
              "      <td>03-11-1963</td>\n",
              "      <td>producer</td>\n",
              "      <td>https://nettv4u.com/celebrity/english/producer...</td>\n",
              "      <td>https://nettv4u.com/imagine/13-12-2018/zane-we...</td>\n",
              "    </tr>\n",
              "    <tr>\n",
              "      <th>3</th>\n",
              "      <td>Jennifer Davisson Killoran</td>\n",
              "      <td>?</td>\n",
              "      <td>producer</td>\n",
              "      <td>https://nettv4u.com/celebrity/english/producer...</td>\n",
              "      <td>https://nettv4u.com/imagine/29-10-2018/jennife...</td>\n",
              "    </tr>\n",
              "    <tr>\n",
              "      <th>4</th>\n",
              "      <td>Basil Iwanyk</td>\n",
              "      <td>04-01-1970</td>\n",
              "      <td>producer</td>\n",
              "      <td>https://nettv4u.com/celebrity/english/producer...</td>\n",
              "      <td>https://nettv4u.com/imagine/29-10-2018/basil-i...</td>\n",
              "    </tr>\n",
              "  </tbody>\n",
              "</table>\n",
              "</div>"
            ],
            "text/plain": [
              "                         Name  ...                                         Image_Link\n",
              "0               Peter Jackson  ...  https://nettv4u.com/imagine/13-12-2018/peter-j...\n",
              "1               Deborah Forte  ...  https://nettv4u.com/imagine/13-12-2018/deborah...\n",
              "2                 Zane Weiner  ...  https://nettv4u.com/imagine/13-12-2018/zane-we...\n",
              "3  Jennifer Davisson Killoran  ...  https://nettv4u.com/imagine/29-10-2018/jennife...\n",
              "4                Basil Iwanyk  ...  https://nettv4u.com/imagine/29-10-2018/basil-i...\n",
              "\n",
              "[5 rows x 5 columns]"
            ]
          },
          "metadata": {
            "tags": []
          },
          "execution_count": 164
        }
      ]
    },
    {
      "cell_type": "code",
      "metadata": {
        "id": "LGgmN9580riY",
        "colab_type": "code",
        "colab": {}
      },
      "source": [
        "df.to_csv('Intership_ssignment.csv' , index=False)"
      ],
      "execution_count": 0,
      "outputs": []
    },
    {
      "cell_type": "code",
      "metadata": {
        "id": "Cw0ypqeD0rry",
        "colab_type": "code",
        "colab": {}
      },
      "source": [
        ""
      ],
      "execution_count": 0,
      "outputs": []
    },
    {
      "cell_type": "code",
      "metadata": {
        "id": "l6vDk4ya0rp2",
        "colab_type": "code",
        "colab": {}
      },
      "source": [
        ""
      ],
      "execution_count": 0,
      "outputs": []
    },
    {
      "cell_type": "code",
      "metadata": {
        "id": "a-0UYztF0rnB",
        "colab_type": "code",
        "colab": {}
      },
      "source": [
        ""
      ],
      "execution_count": 0,
      "outputs": []
    },
    {
      "cell_type": "code",
      "metadata": {
        "id": "fYuBR_JE0rgf",
        "colab_type": "code",
        "colab": {}
      },
      "source": [
        ""
      ],
      "execution_count": 0,
      "outputs": []
    },
    {
      "cell_type": "code",
      "metadata": {
        "id": "EeMYJH3C0ret",
        "colab_type": "code",
        "colab": {}
      },
      "source": [
        ""
      ],
      "execution_count": 0,
      "outputs": []
    },
    {
      "cell_type": "code",
      "metadata": {
        "id": "qEITQ5l80rcd",
        "colab_type": "code",
        "colab": {}
      },
      "source": [
        ""
      ],
      "execution_count": 0,
      "outputs": []
    },
    {
      "cell_type": "code",
      "metadata": {
        "id": "38ZK-5GL0rYv",
        "colab_type": "code",
        "colab": {}
      },
      "source": [
        ""
      ],
      "execution_count": 0,
      "outputs": []
    },
    {
      "cell_type": "code",
      "metadata": {
        "id": "W_L0FYX10rVh",
        "colab_type": "code",
        "colab": {}
      },
      "source": [
        ""
      ],
      "execution_count": 0,
      "outputs": []
    },
    {
      "cell_type": "code",
      "metadata": {
        "id": "tdmCTOEVrXaO",
        "colab_type": "code",
        "colab": {}
      },
      "source": [
        ""
      ],
      "execution_count": 0,
      "outputs": []
    },
    {
      "cell_type": "markdown",
      "metadata": {
        "id": "xB0726sO63Fz",
        "colab_type": "text"
      },
      "source": [
        "#Practice Work ........."
      ]
    },
    {
      "cell_type": "code",
      "metadata": {
        "id": "bCG-Aw21IxJV",
        "colab_type": "code",
        "colab": {}
      },
      "source": [
        ""
      ],
      "execution_count": 0,
      "outputs": []
    },
    {
      "cell_type": "code",
      "metadata": {
        "id": "vTTLVsPWIxBJ",
        "colab_type": "code",
        "colab": {}
      },
      "source": [
        "print(len(producer) , len(links) , len(images))\n",
        "i= 35\n",
        "print(links[i])\n",
        "print(producer[i])\n",
        "images[i]"
      ],
      "execution_count": 0,
      "outputs": []
    },
    {
      "cell_type": "code",
      "metadata": {
        "id": "A54T4FavrXNn",
        "colab_type": "code",
        "colab": {}
      },
      "source": [
        "from urllib.request import urlopen as ureq\n",
        "from bs4 import BeautifulSoup\n",
        "import requests\n"
      ],
      "execution_count": 0,
      "outputs": []
    },
    {
      "cell_type": "code",
      "metadata": {
        "id": "7SczgdMyrXP5",
        "colab_type": "code",
        "colab": {}
      },
      "source": [
        "url = 'https://nettv4u.com/celebrity/english/'\n",
        "page = requests.get(url)\n",
        "html = BeautifulSoup(page.content,'html.parser')\n",
        "# html.findAll(\"a\",{\"class\":\"LinkNormal\"})\n",
        "div1 = html.findAll(\"a\",{\"class\":\"dropdown-item\"})"
      ],
      "execution_count": 0,
      "outputs": []
    },
    {
      "cell_type": "code",
      "metadata": {
        "id": "LN1nnRmOrXRo",
        "colab_type": "code",
        "outputId": "5bcc7c69-42a3-4996-9ffd-e2a63c988bf7",
        "colab": {
          "base_uri": "https://localhost:8080/",
          "height": 153
        }
      },
      "source": [
        "globe = [] \n",
        "for i in range(len(div1)):\n",
        "  if \"https://nettv4u.com/celebrity/\" in div1[i].get('href'):\n",
        "    globe.append(div1[i].get('href'))\n",
        "\n",
        "    \n",
        "globe"
      ],
      "execution_count": 0,
      "outputs": [
        {
          "output_type": "execute_result",
          "data": {
            "text/plain": [
              "['https://nettv4u.com/celebrity/birthdays',\n",
              " 'https://nettv4u.com/celebrity/movie-actor',\n",
              " 'https://nettv4u.com/celebrity/movie-actress',\n",
              " 'https://nettv4u.com/celebrity/director',\n",
              " 'https://nettv4u.com/celebrity/producer',\n",
              " 'https://nettv4u.com/celebrity/supporting-actor',\n",
              " 'https://nettv4u.com/celebrity/supporting-actress',\n",
              " 'https://nettv4u.com/celebrity/editor']"
            ]
          },
          "metadata": {
            "tags": []
          },
          "execution_count": 16
        }
      ]
    },
    {
      "cell_type": "code",
      "metadata": {
        "id": "4oIwXkOyrXdC",
        "colab_type": "code",
        "colab": {}
      },
      "source": [
        "url = 'https://nettv4u.com/celebrity/english/producer/page=1'\n",
        "page = requests.get(url)\n",
        "html = BeautifulSoup(page.content,'html.parser')\n",
        "# html.findAll(\"a\",{\"class\":\"LinkNormal\"})\n",
        "div = html.findAll(\"a\")\n",
        "producer = []\n",
        "for i in range(len(div)):\n",
        "  if(len(str(div[i].get('href')))>0):\n",
        "    if \"/celebrity/english/producer/\" in str(div[i].get('href')):\n",
        "      producer.append('https://nettv4u.com' + div[i].get('href'))\n",
        "      \n",
        "producer"
      ],
      "execution_count": 0,
      "outputs": []
    }
  ]
}