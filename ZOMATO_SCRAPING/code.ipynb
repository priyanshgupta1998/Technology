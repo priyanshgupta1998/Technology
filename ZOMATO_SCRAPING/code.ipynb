{
  "nbformat": 4,
  "nbformat_minor": 0,
  "metadata": {
    "colab": {
      "name": "TensorFlow with GPU",
      "provenance": [],
      "collapsed_sections": [],
      "include_colab_link": true
    },
    "kernelspec": {
      "name": "python3",
      "display_name": "Python 3"
    },
    "accelerator": "GPU"
  },
  "cells": [
    {
      "cell_type": "markdown",
      "metadata": {
        "id": "view-in-github",
        "colab_type": "text"
      },
      "source": [
        "<a href=\"https://colab.research.google.com/github/priyanshgupta1998/WebScraping/blob/master/ZOMATO_SCRAPING/code.ipynb\" target=\"_parent\"><img src=\"https://colab.research.google.com/assets/colab-badge.svg\" alt=\"Open In Colab\"/></a>"
      ]
    },
    {
      "cell_type": "code",
      "metadata": {
        "id": "qmXuUIkt6kaQ",
        "colab_type": "code",
        "colab": {}
      },
      "source": [
        "api_key = 'db69a2c3f19aa68828e3765c00b5ab30'"
      ],
      "execution_count": 0,
      "outputs": []
    },
    {
      "cell_type": "code",
      "metadata": {
        "id": "QIBmZ7JH6kd4",
        "colab_type": "code",
        "colab": {}
      },
      "source": [
        "from urllib.request import urlopen as ureq\n",
        "from bs4 import BeautifulSoup\n",
        "import requests\n",
        "url = 'https://developers.zomato.com/api/v2.1/categories'\n",
        "page = requests.get(url)\n",
        "html = BeautifulSoup(page.content,'html.parser')\n",
        "html"
      ],
      "execution_count": 0,
      "outputs": []
    },
    {
      "cell_type": "code",
      "metadata": {
        "id": "QyhMBTZu6yBj",
        "colab_type": "code",
        "colab": {}
      },
      "source": [
        "# headers = {\n",
        "#   \"content-security-policy\": \"frame-ancestors https://*.nearbuystag.in https://*.nearbuy.com 'self' https://pwa.zomato.com; default-src *; font-src * data:; img-src * data:; media-src * blob:; script-src 'self' 'unsafe-inline' 'unsafe-eval' browser.sentry-cdn.com *.jwpcdn.com *.cloudflare.com *.twitter.com *.recruiterbox.com *.zdev.net *.zdev.net:8080 *.zomato.com *.tinymce.com *.gstatic.com *.googleapis.com *.google.com *.google.co.in *.facebook.com sdk.accountkit.com *.doubleclick.net *.googlesyndication.com *.nr-data.net *.newrelic.com *.google-analytics.com *.akamaihd.net *.zmtcdn.com *.googletagmanager.com *.facebook.net *.googleadservices.com *.cdninstagram.com *.googlesyndication.com *.inspectlet.com *.spreedly.com *.instagram.com *.twimg.com *.mouseflow.com *.usersnap.com d3mvnvhjmkxpjz.cloudfront.net *.serving-sys.com *.sushissl.com *.pubnub.com tsgw.tataelxsi.co.in *.branch.io app.link cdn.poll-maker.com *.ampproject.org *.smartlook.com *.hotjar.com dashboard.hypertrack.io zba.se *.googletagmanager.com *.eff.org cdn.plot.ly *.zedo.com *.bing.com *.criteo.net *.criteo.com mddigital.in static.zdassets.com ekr.zdassets.com zomato.zendesk.com *.zopim.com *.zopim.io *.cloudfront.net; style-src * 'unsafe-inline'; worker-src 'self' https: blob:;\",\n",
        "#   \"content-encoding\": \"gzip\",\n",
        "#   \"x-content-type-options\": \"nosniff\",\n",
        "#   \"status\": \"200\",\n",
        "#   \"strict-transport-security\": \"max-age=31536000\",\n",
        "#   \"content-length\": \"218\",\n",
        "#   \"x-xss-protection\": \"1; mode=block; report=https://www.zomato.com/cspreport.php\",\n",
        "#   \"pragma\": \"no-cache\",\n",
        "#   \"server\": \"Apache\",\n",
        "#   \"date\": \"Sun, 27 Oct 2019 20:21:06 GMT\",\n",
        "#   \"vary\": \"Accept-Encoding\",\n",
        "#   \"access-control-allow-methods\": \"GET, POST, DELETE, PUT, PATCH, OPTIONS\",\n",
        "#   \"content-type\": \"application/json\",\n",
        "#   \"access-control-allow-origin\": \"*\",\n",
        "#   \"cache-control\": \"max-age=0, no-cache, no-store\",\n",
        "#   \"access-control-allow-credentials\": \"true\",\n",
        "#   \"access-control-allow-headers\": \"X-Zomato-API-Key\",\n",
        "#   \"expires\": \"Sun, 27 Oct 2019 20:21:06 GMT\"\n",
        "# }\n",
        "\n",
        "# location_url = \"https://www.zomato.com/mumbai/collections\"\n",
        "# location_response = requests.post(location_url, headers=location_headers).json()\n",
        "# location_response \n",
        "\n"
      ],
      "execution_count": 0,
      "outputs": []
    },
    {
      "cell_type": "code",
      "metadata": {
        "id": "3nWC4yMf6yNp",
        "colab_type": "code",
        "colab": {
          "base_uri": "https://localhost:8080/",
          "height": 238
        },
        "outputId": "3408c206-b6d9-499e-fa0b-ce056ba60c0e"
      },
      "source": [
        "import requests\n",
        "from pprint import pprint\n",
        "\n",
        "header = {\n",
        "          \"User-agent\":  'Mozilla/5.0 (Macintosh; Intel Mac OS X 10_11_6) AppleWebKit/537.36 (KHTML, like Gecko) Chrome/61.0.3163.100 Safari/537.36',\n",
        "          \"Accept\": \"application/json\", \n",
        "          \"user_key\": 'db69a2c3f19aa68828e3765c00b5ab30'\n",
        "         }\n",
        "url = 'https://developers.zomato.com/api/v2.1/categories'\n",
        "response = requests.get(url, headers=header)\n",
        "pprint(response.json())"
      ],
      "execution_count": 2,
      "outputs": [
        {
          "output_type": "stream",
          "text": [
            "{'categories': [{'categories': {'id': 1, 'name': 'Delivery'}},\n",
            "                {'categories': {'id': 2, 'name': 'Dine-out'}},\n",
            "                {'categories': {'id': 3, 'name': 'Nightlife'}},\n",
            "                {'categories': {'id': 4, 'name': 'Catching-up'}},\n",
            "                {'categories': {'id': 5, 'name': 'Takeaway'}},\n",
            "                {'categories': {'id': 6, 'name': 'Cafes'}},\n",
            "                {'categories': {'id': 7, 'name': 'Daily Menus'}},\n",
            "                {'categories': {'id': 8, 'name': 'Breakfast'}},\n",
            "                {'categories': {'id': 9, 'name': 'Lunch'}},\n",
            "                {'categories': {'id': 10, 'name': 'Dinner'}},\n",
            "                {'categories': {'id': 11, 'name': 'Pubs & Bars'}},\n",
            "                {'categories': {'id': 13, 'name': 'Pocket Friendly Delivery'}},\n",
            "                {'categories': {'id': 14, 'name': 'Clubs & Lounges'}}]}\n"
          ],
          "name": "stdout"
        }
      ]
    },
    {
      "cell_type": "code",
      "metadata": {
        "id": "gbD4f0cg6ycR",
        "colab_type": "code",
        "colab": {
          "base_uri": "https://localhost:8080/",
          "height": 34
        },
        "outputId": "0b6fb9c6-0f4e-4caa-832c-441d0e85ae2c"
      },
      "source": [
        "from urllib.request import urlopen as ureq\n",
        "from bs4 import BeautifulSoup\n",
        "import requests\n",
        "header = {\n",
        "          \"User-agent\":  'Mozilla/5.0 (Macintosh; Intel Mac OS X 10_11_6) AppleWebKit/537.36 (KHTML, like Gecko) Chrome/61.0.3163.100 Safari/537.36',\n",
        "          \"Accept\": \"application/json\", \n",
        "          \"user_key\": 'db69a2c3f19aa68828e3765c00b5ab30'\n",
        "         }\n",
        "url = 'https://developers.zomato.com/api/v2.1/categories'\n",
        "page = requests.get(url)\n",
        "html = BeautifulSoup(page.content,'html.parser')\n",
        "html"
      ],
      "execution_count": 5,
      "outputs": [
        {
          "output_type": "execute_result",
          "data": {
            "text/plain": [
              "{\"code\":403,\"status\":\"Forbidden\",\"message\":\"Invalid API Key\"}"
            ]
          },
          "metadata": {
            "tags": []
          },
          "execution_count": 5
        }
      ]
    },
    {
      "cell_type": "code",
      "metadata": {
        "id": "UPSnnmfA6ygZ",
        "colab_type": "code",
        "colab": {
          "base_uri": "https://localhost:8080/",
          "height": 34
        },
        "outputId": "441030fe-4d2f-4116-8326-8d72c7962592"
      },
      "source": [
        "response"
      ],
      "execution_count": 6,
      "outputs": [
        {
          "output_type": "execute_result",
          "data": {
            "text/plain": [
              "<Response [200]>"
            ]
          },
          "metadata": {
            "tags": []
          },
          "execution_count": 6
        }
      ]
    },
    {
      "cell_type": "code",
      "metadata": {
        "id": "LPj4dwqs6ymM",
        "colab_type": "code",
        "colab": {}
      },
      "source": [
        ""
      ],
      "execution_count": 0,
      "outputs": []
    },
    {
      "cell_type": "code",
      "metadata": {
        "id": "W2DYeSFX6yrg",
        "colab_type": "code",
        "colab": {}
      },
      "source": [
        "!pip install zomathon"
      ],
      "execution_count": 0,
      "outputs": []
    },
    {
      "cell_type": "code",
      "metadata": {
        "id": "8sMLat0r6yad",
        "colab_type": "code",
        "colab": {}
      },
      "source": [
        "import os\n",
        "import sys\n",
        "import json\n",
        "\n",
        "api_ky = 'db69a2c3f19aa68828e3765c00b5ab30'\n",
        "\n",
        "from zomathon import ZomatoAPI\n",
        "\n",
        "API_KEY = os.environ.get('db69a2c3f19aa68828e3765c00b5ab30')\n",
        "zom = ZomatoAPI(API_KEY)\n",
        "\n",
        "# For complete help on the module\n",
        "help(zom)"
      ],
      "execution_count": 0,
      "outputs": []
    },
    {
      "cell_type": "code",
      "metadata": {
        "id": "Mct1PsuM6yYf",
        "colab_type": "code",
        "colab": {
          "base_uri": "https://localhost:8080/",
          "height": 238
        },
        "outputId": "6d007265-bd5b-4995-c67b-2966c045ab81"
      },
      "source": [
        "import requests\n",
        "from pprint import pprint\n",
        "\n",
        "locationUrlFromLatLong = 'https://developers.zomato.com/api/v2.1/categories'\n",
        "header = {\"User-agent\": \"curl/7.43.0\", \"Accept\": \"application/json\", \"user_key\":'db69a2c3f19aa68828e3765c00b5ab30'}\n",
        "\n",
        "response = requests.get(locationUrlFromLatLong, headers=header)\n",
        "\n",
        "pprint(response.json())"
      ],
      "execution_count": 10,
      "outputs": [
        {
          "output_type": "stream",
          "text": [
            "{'categories': [{'categories': {'id': 1, 'name': 'Delivery'}},\n",
            "                {'categories': {'id': 2, 'name': 'Dine-out'}},\n",
            "                {'categories': {'id': 3, 'name': 'Nightlife'}},\n",
            "                {'categories': {'id': 4, 'name': 'Catching-up'}},\n",
            "                {'categories': {'id': 5, 'name': 'Takeaway'}},\n",
            "                {'categories': {'id': 6, 'name': 'Cafes'}},\n",
            "                {'categories': {'id': 7, 'name': 'Daily Menus'}},\n",
            "                {'categories': {'id': 8, 'name': 'Breakfast'}},\n",
            "                {'categories': {'id': 9, 'name': 'Lunch'}},\n",
            "                {'categories': {'id': 10, 'name': 'Dinner'}},\n",
            "                {'categories': {'id': 11, 'name': 'Pubs & Bars'}},\n",
            "                {'categories': {'id': 13, 'name': 'Pocket Friendly Delivery'}},\n",
            "                {'categories': {'id': 14, 'name': 'Clubs & Lounges'}}]}\n"
          ],
          "name": "stdout"
        }
      ]
    },
    {
      "cell_type": "code",
      "metadata": {
        "id": "VmG_sYC66yWj",
        "colab_type": "code",
        "colab": {}
      },
      "source": [
        ""
      ],
      "execution_count": 0,
      "outputs": []
    },
    {
      "cell_type": "code",
      "metadata": {
        "id": "qQWVxkJs6yVR",
        "colab_type": "code",
        "colab": {}
      },
      "source": [
        ""
      ],
      "execution_count": 0,
      "outputs": []
    },
    {
      "cell_type": "code",
      "metadata": {
        "id": "fXIO1vZ66yTN",
        "colab_type": "code",
        "colab": {}
      },
      "source": [
        ""
      ],
      "execution_count": 0,
      "outputs": []
    },
    {
      "cell_type": "code",
      "metadata": {
        "id": "UJNpUGE86yQq",
        "colab_type": "code",
        "colab": {}
      },
      "source": [
        ""
      ],
      "execution_count": 0,
      "outputs": []
    },
    {
      "cell_type": "code",
      "metadata": {
        "id": "eNjcQ08M6yL3",
        "colab_type": "code",
        "colab": {}
      },
      "source": [
        ""
      ],
      "execution_count": 0,
      "outputs": []
    },
    {
      "cell_type": "code",
      "metadata": {
        "id": "UUhxnSf_6yJo",
        "colab_type": "code",
        "colab": {}
      },
      "source": [
        ""
      ],
      "execution_count": 0,
      "outputs": []
    },
    {
      "cell_type": "code",
      "metadata": {
        "id": "plIpF58B6yIS",
        "colab_type": "code",
        "colab": {}
      },
      "source": [
        ""
      ],
      "execution_count": 0,
      "outputs": []
    },
    {
      "cell_type": "code",
      "metadata": {
        "id": "OAs2EPYv6yGr",
        "colab_type": "code",
        "colab": {}
      },
      "source": [
        ""
      ],
      "execution_count": 0,
      "outputs": []
    },
    {
      "cell_type": "code",
      "metadata": {
        "id": "taKKhw3v6yEh",
        "colab_type": "code",
        "colab": {}
      },
      "source": [
        ""
      ],
      "execution_count": 0,
      "outputs": []
    }
  ]
}